{
 "cells": [
  {
   "cell_type": "code",
   "execution_count": null,
   "metadata": {
    "_cell_guid": "b1076dfc-b9ad-4769-8c92-a6c4dae69d19",
    "_uuid": "8f2839f25d086af736a60e9eeb907d3b93b6e0e5",
    "execution": {
     "iopub.execute_input": "2024-10-31T14:44:25.053955Z",
     "iopub.status.busy": "2024-10-31T14:44:25.053283Z",
     "iopub.status.idle": "2024-10-31T14:44:51.956982Z",
     "shell.execute_reply": "2024-10-31T14:44:51.955129Z",
     "shell.execute_reply.started": "2024-10-31T14:44:25.053921Z"
    },
    "trusted": true
   },
   "outputs": [],
   "source": [
    "!pip install rouge\n",
    "!pip install bert-score\n",
    "!pip install fuzzy-match\n",
    "!pip uninstall -y tensorflow\n",
    "!pip install tensorflow-cpu"
   ]
  },
  {
   "cell_type": "code",
   "execution_count": null,
   "metadata": {
    "execution": {
     "iopub.status.busy": "2024-10-31T14:44:51.957914Z",
     "iopub.status.idle": "2024-10-31T14:44:51.958258Z",
     "shell.execute_reply": "2024-10-31T14:44:51.958108Z",
     "shell.execute_reply.started": "2024-10-31T14:44:51.958091Z"
    },
    "trusted": true
   },
   "outputs": [],
   "source": [
    "import os"
   ]
  },
  {
   "cell_type": "code",
   "execution_count": null,
   "metadata": {
    "execution": {
     "iopub.status.busy": "2024-10-31T14:44:51.960206Z",
     "iopub.status.idle": "2024-10-31T14:44:51.961255Z",
     "shell.execute_reply": "2024-10-31T14:44:51.961021Z",
     "shell.execute_reply.started": "2024-10-31T14:44:51.960995Z"
    },
    "trusted": true
   },
   "outputs": [],
   "source": [
    "CHECKPOINT_DIR_BEST = '/kaggle/working/checkpoints/decoding_raw/best'\n",
    "CHECKPOINT_DIR_LAST = '/kaggle/working/checkpoints/decoding_raw/last'\n",
    "CONFIG_DIR = '/kaggle/working/config/decoding_raw'\n",
    "LOG_DIR = \"runs_h\"\n",
    "os.makedirs(CHECKPOINT_DIR_BEST, exist_ok=True)\n",
    "os.makedirs(CHECKPOINT_DIR_LAST, exist_ok=True)\n",
    "os.makedirs(CONFIG_DIR, exist_ok=True)\n"

   ]
  },
  {
   "cell_type": "code",
   "execution_count": null,
   "metadata": {
    "execution": {
     "iopub.execute_input": "2024-10-31T14:44:04.197217Z",
     "iopub.status.busy": "2024-10-31T14:44:04.196839Z",
     "iopub.status.idle": "2024-10-31T14:44:05.199584Z",
     "shell.execute_reply": "2024-10-31T14:44:05.198633Z",
     "shell.execute_reply.started": "2024-10-31T14:44:04.197177Z"
    },
    "trusted": true
   },
   "outputs": [],
   "source": [
    "!git clone https://github.com/omnia-ghonem/EEG-to-Text-Decoding.git\n"
   ]
  },
  {
   "cell_type": "code",
   "execution_count": null,
   "metadata": {
    "execution": {
     "iopub.execute_input": "2024-10-31T14:30:39.427413Z",
     "iopub.status.busy": "2024-10-31T14:30:39.426682Z",
     "iopub.status.idle": "2024-10-31T14:30:39.433404Z",
     "shell.execute_reply": "2024-10-31T14:30:39.432475Z",
     "shell.execute_reply.started": "2024-10-31T14:30:39.427371Z"
    },
    "trusted": true
   },
   "outputs": [],
   "source": [
    "%cd EEG-to-Text-Decoding\n"
   ]
  },
  {
   "cell_type": "code",
   "execution_count": null,
   "metadata": {
    "execution": {
     "iopub.execute_input": "2024-10-31T14:39:54.914734Z",
     "iopub.status.busy": "2024-10-31T14:39:54.913904Z",
     "iopub.status.idle": "2024-10-31T14:43:04.860133Z",
     "shell.execute_reply": "2024-10-31T14:43:04.858937Z",
     "shell.execute_reply.started": "2024-10-31T14:39:54.914694Z"
    },
    "trusted": true
   },
   "outputs": [],
   "source": [
    "!bash /kaggle/working/EEG-to-Text-Decoding/scripts/train_decoding_raw.sh"
   ]
  }
 ],
 "metadata": {
  "kaggle": {
   "accelerator": "nvidiaTeslaT4",
   "dataSources": [
    {
     "datasetId": 5935890,
     "sourceId": 9705654,
     "sourceType": "datasetVersion"
    },
    {
     "datasetId": 5935908,
     "sourceId": 9705678,
     "sourceType": "datasetVersion"
    },
    {
     "datasetId": 5981995,
     "sourceId": 9767215,
     "sourceType": "datasetVersion"
    },
    {
     "datasetId": 5985628,
     "sourceId": 9772040,
     "sourceType": "datasetVersion"
    },
    {
     "isSourceIdPinned": true,
     "modelId": 151757,
     "modelInstanceId": 128889,
     "sourceId": 151788,
     "sourceType": "modelInstanceVersion"
    },
    {
     "isSourceIdPinned": true,
     "modelId": 151758,
     "modelInstanceId": 128890,
     "sourceId": 151789,
     "sourceType": "modelInstanceVersion"
    },
    {
     "isSourceIdPinned": true,
     "modelId": 151759,
     "modelInstanceId": 128891,
     "sourceId": 151790,
     "sourceType": "modelInstanceVersion"
    },
    {
     "isSourceIdPinned": true,
     "modelId": 151764,
     "modelInstanceId": 128894,
     "sourceId": 151794,
     "sourceType": "modelInstanceVersion"
    }
   ],
   "dockerImageVersionId": 30787,
   "isGpuEnabled": true,
   "isInternetEnabled": true,
   "language": "python",
   "sourceType": "notebook"
  },
  "kernelspec": {
   "display_name": "Python 3",
   "language": "python",
   "name": "python3"
  },
  "language_info": {
   "codemirror_mode": {
    "name": "ipython",
    "version": 3
   },
   "file_extension": ".py",
   "mimetype": "text/x-python",
   "name": "python",
   "nbconvert_exporter": "python",
   "pygments_lexer": "ipython3",
   "version": "3.10.14"
  }
 },
 "nbformat": 4,
 "nbformat_minor": 4
}
